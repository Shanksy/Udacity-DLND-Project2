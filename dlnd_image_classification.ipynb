{
 "cells": [
  {
   "cell_type": "markdown",
   "metadata": {
    "collapsed": true,
    "deletable": true,
    "editable": true
   },
   "source": [
    "# Image Classification\n",
    "In this project, you'll classify images from the [CIFAR-10 dataset](https://www.cs.toronto.edu/~kriz/cifar.html).  The dataset consists of airplanes, dogs, cats, and other objects. You'll preprocess the images, then train a convolutional neural network on all the samples. The images need to be normalized and the labels need to be one-hot encoded.  You'll get to apply what you learned and build a convolutional, max pooling, dropout, and fully connected layers.  At the end, you'll get to see your neural network's predictions on the sample images.\n",
    "## Get the Data\n",
    "Run the following cell to download the [CIFAR-10 dataset for python](https://www.cs.toronto.edu/~kriz/cifar-10-python.tar.gz)."
   ]
  },
  {
   "cell_type": "code",
   "execution_count": 1,
   "metadata": {
    "collapsed": false,
    "deletable": true,
    "editable": true
   },
   "outputs": [
    {
     "name": "stdout",
     "output_type": "stream",
     "text": [
      "All files found!\n"
     ]
    }
   ],
   "source": [
    "\"\"\"\n",
    "DON'T MODIFY ANYTHING IN THIS CELL THAT IS BELOW THIS LINE\n",
    "\"\"\"\n",
    "from urllib.request import urlretrieve\n",
    "from os.path import isfile, isdir\n",
    "from tqdm import tqdm\n",
    "import problem_unittests as tests\n",
    "import tarfile\n",
    "\n",
    "cifar10_dataset_folder_path = 'cifar-10-batches-py'\n",
    "\n",
    "class DLProgress(tqdm):\n",
    "    last_block = 0\n",
    "\n",
    "    def hook(self, block_num=1, block_size=1, total_size=None):\n",
    "        self.total = total_size\n",
    "        self.update((block_num - self.last_block) * block_size)\n",
    "        self.last_block = block_num\n",
    "\n",
    "if not isfile('cifar-10-python.tar.gz'):\n",
    "    with DLProgress(unit='B', unit_scale=True, miniters=1, desc='CIFAR-10 Dataset') as pbar:\n",
    "        urlretrieve(\n",
    "            'https://www.cs.toronto.edu/~kriz/cifar-10-python.tar.gz',\n",
    "            'cifar-10-python.tar.gz',\n",
    "            pbar.hook)\n",
    "\n",
    "if not isdir(cifar10_dataset_folder_path):\n",
    "    with tarfile.open('cifar-10-python.tar.gz') as tar:\n",
    "        tar.extractall()\n",
    "        tar.close()\n",
    "\n",
    "\n",
    "tests.test_folder_path(cifar10_dataset_folder_path)"
   ]
  },
  {
   "cell_type": "markdown",
   "metadata": {
    "deletable": true,
    "editable": true
   },
   "source": [
    "## Explore the Data\n",
    "The dataset is broken into batches to prevent your machine from running out of memory.  The CIFAR-10 dataset consists of 5 batches, named `data_batch_1`, `data_batch_2`, etc.. Each batch contains the labels and images that are one of the following:\n",
    "* airplane\n",
    "* automobile\n",
    "* bird\n",
    "* cat\n",
    "* deer\n",
    "* dog\n",
    "* frog\n",
    "* horse\n",
    "* ship\n",
    "* truck\n",
    "\n",
    "Understanding a dataset is part of making predictions on the data.  Play around with the code cell below by changing the `batch_id` and `sample_id`. The `batch_id` is the id for a batch (1-5). The `sample_id` is the id for a image and label pair in the batch.\n",
    "\n",
    "Ask yourself \"What are all possible labels?\", \"What is the range of values for the image data?\", \"Are the labels in order or random?\".  Answers to questions like these will help you preprocess the data and end up with better predictions."
   ]
  },
  {
   "cell_type": "code",
   "execution_count": 2,
   "metadata": {
    "collapsed": false,
    "deletable": true,
    "editable": true
   },
   "outputs": [
    {
     "name": "stdout",
     "output_type": "stream",
     "text": [
      "\n",
      "Stats of batch 1:\n",
      "Samples: 10000\n",
      "Label Counts: {0: 1005, 1: 974, 2: 1032, 3: 1016, 4: 999, 5: 937, 6: 1030, 7: 1001, 8: 1025, 9: 981}\n",
      "First 20 Labels: [6, 9, 9, 4, 1, 1, 2, 7, 8, 3, 4, 7, 7, 2, 9, 9, 9, 3, 2, 6]\n",
      "\n",
      "Example of Image 5:\n",
      "Image - Min Value: 0 Max Value: 252\n",
      "Image - Shape: (32, 32, 3)\n",
      "Label - Label Id: 1 Name: automobile\n"
     ]
    },
    {
     "data": {
      "image/png": "[encoded data removed]",
      "text/plain": [
       "<matplotlib.figure.Figure at 0x7fa420ea90b8>"
      ]
     },
     "metadata": {
      "image/png": {
       "height": 250,
       "width": 253
      }
     },
     "output_type": "display_data"
    }
   ],
   "source": [
    "%matplotlib inline\n",
    "%config InlineBackend.figure_format = 'retina'\n",
    "\n",
    "import helper\n",
    "import numpy as np\n",
    "from sklearn import preprocessing\n",
    "\n",
    "# Explore the dataset\n",
    "batch_id = 1\n",
    "sample_id = 5\n",
    "helper.display_stats(cifar10_dataset_folder_path, batch_id, sample_id)"
   ]
  },
  {
   "cell_type": "markdown",
   "metadata": {
    "deletable": true,
    "editable": true
   },
   "source": [
    "## Implement Preprocess Functions\n",
    "### Normalize\n",
    "In the cell below, implement the `normalize` function to take in image data, `x`, and return it as a normalized Numpy array. The values should be in the range of 0 to 1, inclusive.  The return object should be the same shape as `x`."
   ]
  },
  {
   "cell_type": "code",
   "execution_count": 3,
   "metadata": {
    "collapsed": false,
    "deletable": true,
    "editable": true
   },
   "outputs": [
    {
     "name": "stdout",
     "output_type": "stream",
     "text": [
      "Tests Passed\n"
     ]
    }
   ],
   "source": [
    "def normalize(x):\n",
    "    \"\"\"\n",
    "    Normalize a list of sample image data in the range of 0 to 1\n",
    "    : x: List of image data.  The image shape is (32, 32, 3)\n",
    "    : return: Numpy array of normalize data\n",
    "    \"\"\"\n",
    "    # Normalize using Min-Max scaling. Mins are 0 so equation is simplified\n",
    "    max_value = 255\n",
    "    x = x / max_value\n",
    "    \n",
    "    return x\n",
    "\n",
    "\n",
    "\"\"\"\n",
    "DON'T MODIFY ANYTHING IN THIS CELL THAT IS BELOW THIS LINE\n",
    "\"\"\"\n",
    "tests.test_normalize(normalize)"
   ]
  },
  {
   "cell_type": "markdown",
   "metadata": {
    "deletable": true,
    "editable": true
   },
   "source": [
    "### One-hot encode\n",
    "Just like the previous code cell, you'll be implementing a function for preprocessing.  This time, you'll implement the `one_hot_encode` function. The input, `x`, are a list of labels.  Implement the function to return the list of labels as One-Hot encoded Numpy array.  The possible values for labels are 0 to 9. The one-hot encoding function should return the same encoding for each value between each call to `one_hot_encode`.  Make sure to save the map of encodings outside the function.\n",
    "\n",
    "Hint: Don't reinvent the wheel."
   ]
  },
  {
   "cell_type": "code",
   "execution_count": 4,
   "metadata": {
    "collapsed": false,
    "deletable": true,
    "editable": true
   },
   "outputs": [
    {
     "name": "stdout",
     "output_type": "stream",
     "text": [
      "Tests Passed\n"
     ]
    }
   ],
   "source": [
    "def one_hot_encode(x):\n",
    "    \"\"\"\n",
    "    One hot encode a list of sample labels. Return a one-hot encoded vector for each label.\n",
    "    : x: List of sample Labels\n",
    "    : return: Numpy array of one-hot encoded labels\n",
    "    \"\"\"\n",
    "    # Use sklearns label binarizer for one hot encoding\n",
    "    lb = preprocessing.LabelBinarizer()\n",
    "    # Assign one-hot vectors to our known list of labels\n",
    "    lb.fit([0,1,2,3,4,5,6,7,8,9])\n",
    "    # transform to one-hot vectors\n",
    "    enc_labels = lb.transform(x)\n",
    "    \n",
    "    return enc_labels\n",
    "\n",
    "\n",
    "\"\"\"\n",
    "DON'T MODIFY ANYTHING IN THIS CELL THAT IS BELOW THIS LINE\n",
    "\"\"\"\n",
    "tests.test_one_hot_encode(one_hot_encode)"
   ]
  },
  {
   "cell_type": "markdown",
   "metadata": {
    "deletable": true,
    "editable": true
   },
   "source": [
    "### Randomize Data\n",
    "As you saw from exploring the data above, the order of the samples are randomized.  It doesn't hurt to randomize it again, but you don't need to for this dataset."
   ]
  },
  {
   "cell_type": "markdown",
   "metadata": {
    "deletable": true,
    "editable": true
   },
   "source": [
    "## Preprocess all the data and save it\n",
    "Running the code cell below will preprocess all the CIFAR-10 data and save it to file. The code below also uses 10% of the training data for validation."
   ]
  },
  {
   "cell_type": "code",
   "execution_count": 5,
   "metadata": {
    "collapsed": false,
    "deletable": true,
    "editable": true
   },
   "outputs": [],
   "source": [
    "\"\"\"\n",
    "DON'T MODIFY ANYTHING IN THIS CELL\n",
    "\"\"\"\n",
    "# Preprocess Training, Validation, and Testing Data\n",
    "helper.preprocess_and_save_data(cifar10_dataset_folder_path, normalize, one_hot_encode)"
   ]
  },
  {
   "cell_type": "markdown",
   "metadata": {
    "deletable": true,
    "editable": true
   },
   "source": [
    "# Check Point\n",
    "This is your first checkpoint.  If you ever decide to come back to this notebook or have to restart the notebook, you can start from here.  The preprocessed data has been saved to disk."
   ]
  },
  {
   "cell_type": "code",
   "execution_count": 6,
   "metadata": {
    "collapsed": true,
    "deletable": true,
    "editable": true
   },
   "outputs": [],
   "source": [
    "\"\"\"\n",
    "DON'T MODIFY ANYTHING IN THIS CELL\n",
    "\"\"\"\n",
    "import pickle\n",
    "import problem_unittests as tests\n",
    "import helper\n",
    "\n",
    "# Load the Preprocessed Validation data\n",
    "valid_features, valid_labels = pickle.load(open('preprocess_validation.p', mode='rb'))"
   ]
  },
  {
   "cell_type": "markdown",
   "metadata": {
    "deletable": true,
    "editable": true
   },
   "source": [
    "## Build the network\n",
    "For the neural network, you'll build each layer into a function.  Most of the code you've seen has been outside of functions. To test your code more thoroughly, we require that you put each layer in a function.  This allows us to give you better feedback and test for simple mistakes using our unittests before you submit your project.\n",
    "\n",
    ">**Note:** If you're finding it hard to dedicate enough time for this course each week, we've provided a small shortcut to this part of the project. In the next couple of problems, you'll have the option to use classes from the [TensorFlow Layers](https://www.tensorflow.org/api_docs/python/tf/layers) or [TensorFlow Layers (contrib)](https://www.tensorflow.org/api_guides/python/contrib.layers) packages to build each layer, except the layers you build in the \"Convolutional and Max Pooling Layer\" section.  TF Layers is similar to Keras's and TFLearn's abstraction to layers, so it's easy to pickup.\n",
    "\n",
    ">However, if you would like to get the most out of this course, try to solve all the problems _without_ using anything from the TF Layers packages. You **can** still use classes from other packages that happen to have the same name as ones you find in TF Layers! For example, instead of using the TF Layers version of the `conv2d` class, [tf.layers.conv2d](https://www.tensorflow.org/api_docs/python/tf/layers/conv2d), you would want to use the TF Neural Network version of `conv2d`, [tf.nn.conv2d](https://www.tensorflow.org/api_docs/python/tf/nn/conv2d). \n",
    "\n",
    "Let's begin!\n",
    "\n",
    "### Input\n",
    "The neural network needs to read the image data, one-hot encoded labels, and dropout keep probability. Implement the following functions\n",
    "* Implement `neural_net_image_input`\n",
    " * Return a [TF Placeholder](https://www.tensorflow.org/api_docs/python/tf/placeholder)\n",
    " * Set the shape using `image_shape` with batch size set to `None`.\n",
    " * Name the TensorFlow placeholder \"x\" using the TensorFlow `name` parameter in the [TF Placeholder](https://www.tensorflow.org/api_docs/python/tf/placeholder).\n",
    "* Implement `neural_net_label_input`\n",
    " * Return a [TF Placeholder](https://www.tensorflow.org/api_docs/python/tf/placeholder)\n",
    " * Set the shape using `n_classes` with batch size set to `None`.\n",
    " * Name the TensorFlow placeholder \"y\" using the TensorFlow `name` parameter in the [TF Placeholder](https://www.tensorflow.org/api_docs/python/tf/placeholder).\n",
    "* Implement `neural_net_keep_prob_input`\n",
    " * Return a [TF Placeholder](https://www.tensorflow.org/api_docs/python/tf/placeholder) for dropout keep probability.\n",
    " * Name the TensorFlow placeholder \"keep_prob\" using the TensorFlow `name` parameter in the [TF Placeholder](https://www.tensorflow.org/api_docs/python/tf/placeholder).\n",
    "\n",
    "These names will be used at the end of the project to load your saved model.\n",
    "\n",
    "Note: `None` for shapes in TensorFlow allow for a dynamic size."
   ]
  },
  {
   "cell_type": "code",
   "execution_count": 7,
   "metadata": {
    "collapsed": false,
    "deletable": true,
    "editable": true
   },
   "outputs": [
    {
     "name": "stdout",
     "output_type": "stream",
     "text": [
      "Image Input Tests Passed.\n",
      "Label Input Tests Passed.\n",
      "Keep Prob Tests Passed.\n"
     ]
    }
   ],
   "source": [
    "import tensorflow as tf\n",
    "\n",
    "def neural_net_image_input(image_shape):\n",
    "    \"\"\"\n",
    "    Return a Tensor for a bach of image input\n",
    "    : image_shape: Shape of the images\n",
    "    : return: Tensor for image input.\n",
    "    \"\"\"\n",
    "    return tf.placeholder(tf.float32, [None, image_shape[0], image_shape[1], image_shape[2]], name='x')\n",
    "\n",
    "\n",
    "def neural_net_label_input(n_classes):\n",
    "    \"\"\"\n",
    "    Return a Tensor for a batch of label input\n",
    "    : n_classes: Number of classes\n",
    "    : return: Tensor for label input.\n",
    "    \"\"\"\n",
    "    return tf.placeholder(tf.float32, [None, n_classes], name='y')\n",
    "\n",
    "\n",
    "def neural_net_keep_prob_input():\n",
    "    \"\"\"\n",
    "    Return a Tensor for keep probability\n",
    "    : return: Tensor for keep probability.\n",
    "    \"\"\"\n",
    "    return tf.placeholder(tf.float32, name='keep_prob')\n",
    "\n",
    "\n",
    "\"\"\"\n",
    "DON'T MODIFY ANYTHING IN THIS CELL THAT IS BELOW THIS LINE\n",
    "\"\"\"\n",
    "tf.reset_default_graph()\n",
    "tests.test_nn_image_inputs(neural_net_image_input)\n",
    "tests.test_nn_label_inputs(neural_net_label_input)\n",
    "tests.test_nn_keep_prob_inputs(neural_net_keep_prob_input)"
   ]
  },
  {
   "cell_type": "markdown",
   "metadata": {
    "deletable": true,
    "editable": true
   },
   "source": [
    "### Convolution and Max Pooling Layer\n",
    "Convolution layers have a lot of success with images. For this code cell, you should implement the function `conv2d_maxpool` to apply convolution then max pooling:\n",
    "* Create the weight and bias using `conv_ksize`, `conv_num_outputs` and the shape of `x_tensor`.\n",
    "* Apply a convolution to `x_tensor` using weight and `conv_strides`.\n",
    " * We recommend you use same padding, but you're welcome to use any padding.\n",
    "* Add bias\n",
    "* Add a nonlinear activation to the convolution.\n",
    "* Apply Max Pooling using `pool_ksize` and `pool_strides`.\n",
    " * We recommend you use same padding, but you're welcome to use any padding.\n",
    "\n",
    "**Note:** You **can't** use [TensorFlow Layers](https://www.tensorflow.org/api_docs/python/tf/layers) or [TensorFlow Layers (contrib)](https://www.tensorflow.org/api_guides/python/contrib.layers) for **this** layer, but you can still use TensorFlow's [Neural Network](https://www.tensorflow.org/api_docs/python/tf/nn) package. You may still use the shortcut option for all the **other** layers."
   ]
  },
  {
   "cell_type": "code",
   "execution_count": 8,
   "metadata": {
    "collapsed": false,
    "deletable": true,
    "editable": true
   },
   "outputs": [
    {
     "name": "stdout",
     "output_type": "stream",
     "text": [
      "Tests Passed\n"
     ]
    }
   ],
   "source": [
    "def conv2d_maxpool(x_tensor, conv_num_outputs, conv_ksize, conv_strides, pool_ksize, pool_strides):\n",
    "    \"\"\"\n",
    "    Apply convolution then max pooling to x_tensor\n",
    "    :param x_tensor: TensorFlow Tensor\n",
    "    :param conv_num_outputs: Number of outputs for the convolutional layer\n",
    "    :param conv_ksize: kernal size 2-D Tuple for the convolutional layer\n",
    "    :param conv_strides: Stride 2-D Tuple for convolution\n",
    "    :param pool_ksize: kernal size 2-D Tuple for pool\n",
    "    :param pool_strides: Stride 2-D Tuple for pool\n",
    "    : return: A tensor that represents convolution and max pooling of x_tensor\n",
    "    \"\"\"\n",
    "    # Extract vars to make things a little more readable\n",
    "    filter_h = conv_ksize[0]\n",
    "    filter_w = conv_ksize[1]\n",
    "    x_channels = x_tensor.shape.as_list()[3]\n",
    "    conv_stride = [1, conv_strides[0], conv_strides[1], 1]\n",
    "    pool_stride = [1, pool_strides[0], pool_strides[1], 1]\n",
    "    pool_ksize = [1, pool_ksize[0], pool_ksize[1], 1]\n",
    "    \n",
    "        \n",
    "    # Set up weight and bias variables\n",
    "    weight = tf.Variable(tf.truncated_normal([filter_h, filter_w, x_channels, conv_num_outputs], stddev=0.05))\n",
    "    bias = tf.Variable(tf.zeros(conv_num_outputs))\n",
    "\n",
    "    \n",
    "    # Set up convolution layer\n",
    "    conv_layer = tf.nn.conv2d(x_tensor, weight, conv_stride, padding='SAME')\n",
    "    # Add bias to conv layer\n",
    "    conv_layer = tf.nn.bias_add(conv_layer, bias)\n",
    "    # Apply non-linear activation function\n",
    "    conv_layer = tf.nn.relu(conv_layer)\n",
    "    # Apply max-pooling\n",
    "    conv_layer = tf.nn.max_pool(conv_layer, pool_ksize, pool_stride, padding='SAME')\n",
    "    \n",
    "    return conv_layer \n",
    "\n",
    "\n",
    "\"\"\"\n",
    "DON'T MODIFY ANYTHING IN THIS CELL THAT IS BELOW THIS LINE\n",
    "\"\"\"\n",
    "tests.test_con_pool(conv2d_maxpool)"
   ]
  },
  {
   "cell_type": "markdown",
   "metadata": {
    "deletable": true,
    "editable": true
   },
   "source": [
    "### Flatten Layer\n",
    "Implement the `flatten` function to change the dimension of `x_tensor` from a 4-D tensor to a 2-D tensor.  The output should be the shape (*Batch Size*, *Flattened Image Size*). Shortcut option: you can use classes from the [TensorFlow Layers](https://www.tensorflow.org/api_docs/python/tf/layers) or [TensorFlow Layers (contrib)](https://www.tensorflow.org/api_guides/python/contrib.layers) packages for this layer. For more of a challenge, only use other TensorFlow packages."
   ]
  },
  {
   "cell_type": "code",
   "execution_count": 9,
   "metadata": {
    "collapsed": false,
    "deletable": true,
    "editable": true
   },
   "outputs": [
    {
     "name": "stdout",
     "output_type": "stream",
     "text": [
      "Tests Passed\n"
     ]
    }
   ],
   "source": [
    "def flatten(x_tensor):\n",
    "    \"\"\"\n",
    "    Flatten x_tensor to (Batch Size, Flattened Image Size)\n",
    "    : x_tensor: A tensor of size (Batch Size, ...), where ... are the image dimensions.\n",
    "    : return: A tensor of size (Batch Size, Flattened Image Size).\n",
    "    \"\"\"\n",
    "    x_shape = x_tensor.shape.as_list()\n",
    "    image_size = x_shape[1] * x_shape[2] * x_shape[3]\n",
    "    \n",
    "    return tf.reshape(x_tensor, [-1, image_size])\n",
    "\n",
    "\n",
    "\"\"\"\n",
    "DON'T MODIFY ANYTHING IN THIS CELL THAT IS BELOW THIS LINE\n",
    "\"\"\"\n",
    "tests.test_flatten(flatten)"
   ]
  },
  {
   "cell_type": "markdown",
   "metadata": {
    "deletable": true,
    "editable": true
   },
   "source": [
    "### Fully-Connected Layer\n",
    "Implement the `fully_conn` function to apply a fully connected layer to `x_tensor` with the shape (*Batch Size*, *num_outputs*). Shortcut option: you can use classes from the [TensorFlow Layers](https://www.tensorflow.org/api_docs/python/tf/layers) or [TensorFlow Layers (contrib)](https://www.tensorflow.org/api_guides/python/contrib.layers) packages for this layer. For more of a challenge, only use other TensorFlow packages."
   ]
  },
  {
   "cell_type": "code",
   "execution_count": 10,
   "metadata": {
    "collapsed": false,
    "deletable": true,
    "editable": true
   },
   "outputs": [
    {
     "name": "stdout",
     "output_type": "stream",
     "text": [
      "Tests Passed\n"
     ]
    }
   ],
   "source": [
    "def fully_conn(x_tensor, num_outputs):\n",
    "    \"\"\"\n",
    "    Apply a fully connected layer to x_tensor using weight and bias\n",
    "    : x_tensor: A 2-D tensor where the first dimension is batch size.\n",
    "    : num_outputs: The number of output that the new tensor should be.\n",
    "    : return: A 2-D tensor where the second dimension is num_outputs.\n",
    "    \"\"\"\n",
    "    # Set up weight and bias variables\n",
    "    x_size = x_tensor.shape.as_list()[1]\n",
    "    weight = tf.Variable(tf.truncated_normal([x_size, num_outputs], stddev=0.05))\n",
    "    bias = tf.Variable(tf.zeros(num_outputs))\n",
    "    \n",
    "    fc_layer = tf.add(tf.matmul(x_tensor, weight), bias)\n",
    "    fc_layer = tf.nn.relu(fc_layer)\n",
    "    \n",
    "    return fc_layer\n",
    "\n",
    "\n",
    "\"\"\"\n",
    "DON'T MODIFY ANYTHING IN THIS CELL THAT IS BELOW THIS LINE\n",
    "\"\"\"\n",
    "tests.test_fully_conn(fully_conn)"
   ]
  },
  {
   "cell_type": "markdown",
   "metadata": {
    "deletable": true,
    "editable": true
   },
   "source": [
    "### Output Layer\n",
    "Implement the `output` function to apply a fully connected layer to `x_tensor` with the shape (*Batch Size*, *num_outputs*). Shortcut option: you can use classes from the [TensorFlow Layers](https://www.tensorflow.org/api_docs/python/tf/layers) or [TensorFlow Layers (contrib)](https://www.tensorflow.org/api_guides/python/contrib.layers) packages for this layer. For more of a challenge, only use other TensorFlow packages.\n",
    "\n",
    "**Note:** Activation, softmax, or cross entropy should **not** be applied to this."
   ]
  },
  {
   "cell_type": "code",
   "execution_count": 11,
   "metadata": {
    "collapsed": false,
    "deletable": true,
    "editable": true
   },
   "outputs": [
    {
     "name": "stdout",
     "output_type": "stream",
     "text": [
      "Tests Passed\n"
     ]
    }
   ],
   "source": [
    "def output(x_tensor, num_outputs):\n",
    "    \"\"\"\n",
    "    Apply a output layer to x_tensor using weight and bias\n",
    "    : x_tensor: A 2-D tensor where the first dimension is batch size.\n",
    "    : num_outputs: The number of output that the new tensor should be.\n",
    "    : return: A 2-D tensor where the second dimension is num_outputs.\n",
    "    \"\"\"\n",
    "    x_size = x_tensor.shape.as_list()[1]\n",
    "    weight = tf.Variable(tf.truncated_normal([x_size, num_outputs], stddev=0.05))\n",
    "    bias = tf.Variable(tf.zeros(num_outputs))\n",
    "    \n",
    "    out_layer = tf.add(tf.matmul(x_tensor, weight), bias)\n",
    "    \n",
    "    return out_layer\n",
    "\n",
    "\n",
    "\"\"\"\n",
    "DON'T MODIFY ANYTHING IN THIS CELL THAT IS BELOW THIS LINE\n",
    "\"\"\"\n",
    "tests.test_output(output)"
   ]
  },
  {
   "cell_type": "markdown",
   "metadata": {
    "deletable": true,
    "editable": true
   },
   "source": [
    "### Create Convolutional Model\n",
    "Implement the function `conv_net` to create a convolutional neural network model. The function takes in a batch of images, `x`, and outputs logits.  Use the layers you created above to create this model:\n",
    "\n",
    "* Apply 1, 2, or 3 Convolution and Max Pool layers\n",
    "* Apply a Flatten Layer\n",
    "* Apply 1, 2, or 3 Fully Connected Layers\n",
    "* Apply an Output Layer\n",
    "* Return the output\n",
    "* Apply [TensorFlow's Dropout](https://www.tensorflow.org/api_docs/python/tf/nn/dropout) to one or more layers in the model using `keep_prob`. "
   ]
  },
  {
   "cell_type": "code",
   "execution_count": 12,
   "metadata": {
    "collapsed": false,
    "deletable": true,
    "editable": true
   },
   "outputs": [
    {
     "name": "stdout",
     "output_type": "stream",
     "text": [
      "(?, 8, 8, 16)\n",
      "(?, 4, 4, 32)\n",
      "(?, 2, 2, 64)\n",
      "(?, 8, 8, 16)\n",
      "(?, 4, 4, 32)\n",
      "(?, 2, 2, 64)\n",
      "Neural Network Built!\n"
     ]
    }
   ],
   "source": [
    "def conv_net(x, keep_prob):\n",
    "    \"\"\"\n",
    "    Create a convolutional neural network model\n",
    "    : x: Placeholder tensor that holds image data.\n",
    "    : keep_prob: Placeholder tensor that hold dropout keep probability.\n",
    "    : return: Tensor that represents logits\n",
    "    \"\"\"\n",
    "    \n",
    "    # 3 Convolutional layers\n",
    "    # Height and width diminish and depth increases with each layer\n",
    "    conv_outputs = 16\n",
    "    conv_ksize = [8, 8]\n",
    "    conv_strides = [2, 2]\n",
    "    pool_ksize = [2, 2]\n",
    "    pool_strides = [2, 2]\n",
    "    x = conv2d_maxpool(x, conv_outputs, conv_ksize, conv_strides, pool_ksize, pool_strides)\n",
    "    print(x.shape)\n",
    "    \n",
    "    conv_outputs = 32\n",
    "    conv_ksize = [6, 6]\n",
    "    conv_strides = [1, 1]\n",
    "    pool_ksize = [2, 2]\n",
    "    pool_strides = [2, 2]\n",
    "    x = conv2d_maxpool(x, conv_outputs, conv_ksize, conv_strides, pool_ksize, pool_strides)\n",
    "    print(x.shape)\n",
    "    \n",
    "    conv_outputs = 64\n",
    "    conv_ksize = [4, 4]\n",
    "    conv_strides = [1, 1]\n",
    "    pool_ksize = [2, 2]\n",
    "    pool_strides = [2, 2]\n",
    "    x = conv2d_maxpool(x, conv_outputs, conv_ksize, conv_strides, pool_ksize, pool_strides)\n",
    "    print(x.shape)\n",
    "    \n",
    "    # Flatten for passing to fully connected layer\n",
    "    x = flatten(x)\n",
    "    \n",
    "    # One fully connected layer.  I tried more but they didn't improve training\n",
    "    fc_outputs = 1024\n",
    "    x = fully_conn(x, fc_outputs)\n",
    "    \n",
    "    # Apply dropout\n",
    "    x = tf.nn.dropout(x, keep_prob)\n",
    "            \n",
    "    # Output layer\n",
    "    out = output(x, 10)\n",
    "    \n",
    "    # TODO: return output\n",
    "    return out\n",
    "\n",
    "\n",
    "\"\"\"\n",
    "DON'T MODIFY ANYTHING IN THIS CELL THAT IS BELOW THIS LINE\n",
    "\"\"\"\n",
    "\n",
    "##############################\n",
    "## Build the Neural Network ##\n",
    "##############################\n",
    "\n",
    "# Remove previous weights, bias, inputs, etc..\n",
    "tf.reset_default_graph()\n",
    "\n",
    "# Inputs\n",
    "x = neural_net_image_input((32, 32, 3))\n",
    "y = neural_net_label_input(10)\n",
    "keep_prob = neural_net_keep_prob_input()\n",
    "\n",
    "# Model\n",
    "logits = conv_net(x, keep_prob)\n",
    "\n",
    "# Name logits Tensor, so that is can be loaded from disk after training\n",
    "logits = tf.identity(logits, name='logits')\n",
    "\n",
    "# Loss and Optimizer\n",
    "cost = tf.reduce_mean(tf.nn.softmax_cross_entropy_with_logits(logits=logits, labels=y))\n",
    "optimizer = tf.train.AdamOptimizer().minimize(cost)\n",
    "\n",
    "# Accuracy\n",
    "correct_pred = tf.equal(tf.argmax(logits, 1), tf.argmax(y, 1))\n",
    "accuracy = tf.reduce_mean(tf.cast(correct_pred, tf.float32), name='accuracy')\n",
    "\n",
    "tests.test_conv_net(conv_net)"
   ]
  },
  {
   "cell_type": "markdown",
   "metadata": {
    "deletable": true,
    "editable": true
   },
   "source": [
    "## Train the Neural Network\n",
    "### Single Optimization\n",
    "Implement the function `train_neural_network` to do a single optimization.  The optimization should use `optimizer` to optimize in `session` with a `feed_dict` of the following:\n",
    "* `x` for image input\n",
    "* `y` for labels\n",
    "* `keep_prob` for keep probability for dropout\n",
    "\n",
    "This function will be called for each batch, so `tf.global_variables_initializer()` has already been called.\n",
    "\n",
    "Note: Nothing needs to be returned. This function is only optimizing the neural network."
   ]
  },
  {
   "cell_type": "code",
   "execution_count": 13,
   "metadata": {
    "collapsed": false,
    "deletable": true,
    "editable": true
   },
   "outputs": [
    {
     "name": "stdout",
     "output_type": "stream",
     "text": [
      "Tests Passed\n"
     ]
    }
   ],
   "source": [
    "def train_neural_network(session, optimizer, keep_probability, feature_batch, label_batch):\n",
    "    \"\"\"\n",
    "    Optimize the session on a batch of images and labels\n",
    "    : session: Current TensorFlow session\n",
    "    : optimizer: TensorFlow optimizer function\n",
    "    : keep_probability: keep probability\n",
    "    : feature_batch: Batch of Numpy image data\n",
    "    : label_batch: Batch of Numpy label data\n",
    "    \"\"\"\n",
    "    session.run(optimizer, feed_dict={x: feature_batch, y: label_batch, keep_prob: keep_probability})\n",
    "\n",
    "\n",
    "\"\"\"\n",
    "DON'T MODIFY ANYTHING IN THIS CELL THAT IS BELOW THIS LINE\n",
    "\"\"\"\n",
    "tests.test_train_nn(train_neural_network)"
   ]
  },
  {
   "cell_type": "markdown",
   "metadata": {
    "deletable": true,
    "editable": true
   },
   "source": [
    "### Show Stats\n",
    "Implement the function `print_stats` to print loss and validation accuracy.  Use the global variables `valid_features` and `valid_labels` to calculate validation accuracy.  Use a keep probability of `1.0` to calculate the loss and validation accuracy."
   ]
  },
  {
   "cell_type": "code",
   "execution_count": 14,
   "metadata": {
    "collapsed": false,
    "deletable": true,
    "editable": true
   },
   "outputs": [],
   "source": [
    "def print_stats(session, feature_batch, label_batch, cost, accuracy):\n",
    "    \"\"\"\n",
    "    Print information about loss and validation accuracy\n",
    "    : session: Current TensorFlow session\n",
    "    : feature_batch: Batch of Numpy image data\n",
    "    : label_batch: Batch of Numpy label data\n",
    "    : cost: TensorFlow cost function\n",
    "    : accuracy: TensorFlow accuracy function\n",
    "    \"\"\"\n",
    "    loss = session.run(cost, feed_dict={x: feature_batch, y: label_batch, keep_prob: 1.})\n",
    "    valid_acc = session.run(accuracy, feed_dict={x: valid_features, y: valid_labels, keep_prob: 1.})\n",
    "\n",
    "    print('Loss: {:>10.4f} Validation Accuracy: {:.6f}'.format(loss, valid_acc))"
   ]
  },
  {
   "cell_type": "markdown",
   "metadata": {
    "deletable": true,
    "editable": true
   },
   "source": [
    "### Hyperparameters\n",
    "Tune the following parameters:\n",
    "* Set `epochs` to the number of iterations until the network stops learning or start overfitting\n",
    "* Set `batch_size` to the highest number that your machine has memory for.  Most people set them to common sizes of memory:\n",
    " * 64\n",
    " * 128\n",
    " * 256\n",
    " * ...\n",
    "* Set `keep_probability` to the probability of keeping a node using dropout"
   ]
  },
  {
   "cell_type": "code",
   "execution_count": 15,
   "metadata": {
    "collapsed": true,
    "deletable": true,
    "editable": true
   },
   "outputs": [],
   "source": [
    "# Choosing a lower keep_prob and increasing the epochs seemed to give\n",
    "# a more stable result (dropout is reducing overfitting but also trains slower)\n",
    "epochs = 60\n",
    "batch_size = 1024\n",
    "keep_probability = 0.4"
   ]
  },
  {
   "cell_type": "markdown",
   "metadata": {
    "deletable": true,
    "editable": true
   },
   "source": [
    "### Train on a Single CIFAR-10 Batch\n",
    "Instead of training the neural network on all the CIFAR-10 batches of data, let's use a single batch. This should save time while you iterate on the model to get a better accuracy.  Once the final validation accuracy is 50% or greater, run the model on all the data in the next section."
   ]
  },
  {
   "cell_type": "code",
   "execution_count": 16,
   "metadata": {
    "collapsed": false,
    "deletable": true,
    "editable": true
   },
   "outputs": [
    {
     "name": "stdout",
     "output_type": "stream",
     "text": [
      "Checking the Training on a Single Batch...\n",
      "Epoch  1, CIFAR-10 Batch 1:  Loss:     2.1604 Validation Accuracy: 0.212600\n",
      "Epoch  2, CIFAR-10 Batch 1:  Loss:     1.9964 Validation Accuracy: 0.266400\n",
      "Epoch  3, CIFAR-10 Batch 1:  Loss:     1.8896 Validation Accuracy: 0.312800\n",
      "Epoch  4, CIFAR-10 Batch 1:  Loss:     1.8350 Validation Accuracy: 0.341200\n",
      "Epoch  5, CIFAR-10 Batch 1:  Loss:     1.7668 Validation Accuracy: 0.353200\n",
      "Epoch  6, CIFAR-10 Batch 1:  Loss:     1.7208 Validation Accuracy: 0.370200\n",
      "Epoch  7, CIFAR-10 Batch 1:  Loss:     1.6450 Validation Accuracy: 0.398600\n",
      "Epoch  8, CIFAR-10 Batch 1:  Loss:     1.6064 Validation Accuracy: 0.406400\n",
      "Epoch  9, CIFAR-10 Batch 1:  Loss:     1.5634 Validation Accuracy: 0.412200\n",
      "Epoch 10, CIFAR-10 Batch 1:  Loss:     1.5273 Validation Accuracy: 0.426800\n",
      "Epoch 11, CIFAR-10 Batch 1:  Loss:     1.4815 Validation Accuracy: 0.436000\n",
      "Epoch 12, CIFAR-10 Batch 1:  Loss:     1.4269 Validation Accuracy: 0.441200\n",
      "Epoch 13, CIFAR-10 Batch 1:  Loss:     1.4363 Validation Accuracy: 0.443600\n",
      "Epoch 14, CIFAR-10 Batch 1:  Loss:     1.3842 Validation Accuracy: 0.457600\n",
      "Epoch 15, CIFAR-10 Batch 1:  Loss:     1.3581 Validation Accuracy: 0.456400\n",
      "Epoch 16, CIFAR-10 Batch 1:  Loss:     1.3262 Validation Accuracy: 0.468200\n",
      "Epoch 17, CIFAR-10 Batch 1:  Loss:     1.2898 Validation Accuracy: 0.470200\n",
      "Epoch 18, CIFAR-10 Batch 1:  Loss:     1.2829 Validation Accuracy: 0.471000\n",
      "Epoch 19, CIFAR-10 Batch 1:  Loss:     1.2810 Validation Accuracy: 0.468200\n",
      "Epoch 20, CIFAR-10 Batch 1:  Loss:     1.2565 Validation Accuracy: 0.493000\n",
      "Epoch 21, CIFAR-10 Batch 1:  Loss:     1.1987 Validation Accuracy: 0.499400\n",
      "Epoch 22, CIFAR-10 Batch 1:  Loss:     1.1852 Validation Accuracy: 0.497000\n",
      "Epoch 23, CIFAR-10 Batch 1:  Loss:     1.1479 Validation Accuracy: 0.509800\n",
      "Epoch 24, CIFAR-10 Batch 1:  Loss:     1.1499 Validation Accuracy: 0.506000\n",
      "Epoch 25, CIFAR-10 Batch 1:  Loss:     1.1113 Validation Accuracy: 0.523600\n",
      "Epoch 26, CIFAR-10 Batch 1:  Loss:     1.1189 Validation Accuracy: 0.512400\n",
      "Epoch 27, CIFAR-10 Batch 1:  Loss:     1.1635 Validation Accuracy: 0.500800\n",
      "Epoch 28, CIFAR-10 Batch 1:  Loss:     1.0857 Validation Accuracy: 0.518600\n",
      "Epoch 29, CIFAR-10 Batch 1:  Loss:     1.0558 Validation Accuracy: 0.524000\n",
      "Epoch 30, CIFAR-10 Batch 1:  Loss:     1.0680 Validation Accuracy: 0.525000\n",
      "Epoch 31, CIFAR-10 Batch 1:  Loss:     1.0133 Validation Accuracy: 0.531000\n",
      "Epoch 32, CIFAR-10 Batch 1:  Loss:     1.0013 Validation Accuracy: 0.526600\n",
      "Epoch 33, CIFAR-10 Batch 1:  Loss:     1.0543 Validation Accuracy: 0.502800\n",
      "Epoch 34, CIFAR-10 Batch 1:  Loss:     0.9792 Validation Accuracy: 0.535200\n",
      "Epoch 35, CIFAR-10 Batch 1:  Loss:     0.9681 Validation Accuracy: 0.530200\n",
      "Epoch 36, CIFAR-10 Batch 1:  Loss:     0.9870 Validation Accuracy: 0.514600\n",
      "Epoch 37, CIFAR-10 Batch 1:  Loss:     0.9280 Validation Accuracy: 0.534000\n",
      "Epoch 38, CIFAR-10 Batch 1:  Loss:     0.8831 Validation Accuracy: 0.541200\n",
      "Epoch 39, CIFAR-10 Batch 1:  Loss:     0.8609 Validation Accuracy: 0.539200\n",
      "Epoch 40, CIFAR-10 Batch 1:  Loss:     0.8566 Validation Accuracy: 0.535400\n",
      "Epoch 41, CIFAR-10 Batch 1:  Loss:     0.8574 Validation Accuracy: 0.533600\n",
      "Epoch 42, CIFAR-10 Batch 1:  Loss:     0.8589 Validation Accuracy: 0.529400\n",
      "Epoch 43, CIFAR-10 Batch 1:  Loss:     0.8489 Validation Accuracy: 0.528000\n",
      "Epoch 44, CIFAR-10 Batch 1:  Loss:     0.7928 Validation Accuracy: 0.546800\n",
      "Epoch 45, CIFAR-10 Batch 1:  Loss:     0.7758 Validation Accuracy: 0.544800\n",
      "Epoch 46, CIFAR-10 Batch 1:  Loss:     0.7704 Validation Accuracy: 0.542400\n",
      "Epoch 47, CIFAR-10 Batch 1:  Loss:     0.7459 Validation Accuracy: 0.539000\n",
      "Epoch 48, CIFAR-10 Batch 1:  Loss:     0.7267 Validation Accuracy: 0.543200\n",
      "Epoch 49, CIFAR-10 Batch 1:  Loss:     0.7346 Validation Accuracy: 0.539000\n",
      "Epoch 50, CIFAR-10 Batch 1:  Loss:     0.7211 Validation Accuracy: 0.535000\n",
      "Epoch 51, CIFAR-10 Batch 1:  Loss:     0.6744 Validation Accuracy: 0.543000\n",
      "Epoch 52, CIFAR-10 Batch 1:  Loss:     0.7044 Validation Accuracy: 0.532400\n",
      "Epoch 53, CIFAR-10 Batch 1:  Loss:     0.6529 Validation Accuracy: 0.542000\n",
      "Epoch 54, CIFAR-10 Batch 1:  Loss:     0.6486 Validation Accuracy: 0.536400\n",
      "Epoch 55, CIFAR-10 Batch 1:  Loss:     0.6647 Validation Accuracy: 0.526800\n",
      "Epoch 56, CIFAR-10 Batch 1:  Loss:     0.5899 Validation Accuracy: 0.539800\n",
      "Epoch 57, CIFAR-10 Batch 1:  Loss:     0.5814 Validation Accuracy: 0.538000\n",
      "Epoch 58, CIFAR-10 Batch 1:  Loss:     0.5667 Validation Accuracy: 0.536200\n",
      "Epoch 59, CIFAR-10 Batch 1:  Loss:     0.5656 Validation Accuracy: 0.535000\n",
      "Epoch 60, CIFAR-10 Batch 1:  Loss:     0.5779 Validation Accuracy: 0.532400\n"
     ]
    }
   ],
   "source": [
    "\"\"\"\n",
    "DON'T MODIFY ANYTHING IN THIS CELL\n",
    "\"\"\"\n",
    "print('Checking the Training on a Single Batch...')\n",
    "with tf.Session() as sess:\n",
    "    # Initializing the variables\n",
    "    sess.run(tf.global_variables_initializer())\n",
    "    \n",
    "    # Training cycle\n",
    "    for epoch in range(epochs):\n",
    "        batch_i = 1\n",
    "        for batch_features, batch_labels in helper.load_preprocess_training_batch(batch_i, batch_size):\n",
    "            train_neural_network(sess, optimizer, keep_probability, batch_features, batch_labels)\n",
    "        print('Epoch {:>2}, CIFAR-10 Batch {}:  '.format(epoch + 1, batch_i), end='')\n",
    "        print_stats(sess, batch_features, batch_labels, cost, accuracy)"
   ]
  },
  {
   "cell_type": "markdown",
   "metadata": {
    "deletable": true,
    "editable": true
   },
   "source": [
    "### Fully Train the Model\n",
    "Now that you got a good accuracy with a single CIFAR-10 batch, try it with all five batches."
   ]
  },
  {
   "cell_type": "code",
   "execution_count": 17,
   "metadata": {
    "collapsed": false,
    "deletable": true,
    "editable": true
   },
   "outputs": [
    {
     "name": "stdout",
     "output_type": "stream",
     "text": [
      "Training...\n",
      "Epoch  1, CIFAR-10 Batch 1:  Loss:     2.1780 Validation Accuracy: 0.209800\n",
      "Epoch  1, CIFAR-10 Batch 2:  Loss:     1.9697 Validation Accuracy: 0.287600\n",
      "Epoch  1, CIFAR-10 Batch 3:  Loss:     1.8881 Validation Accuracy: 0.303800\n",
      "Epoch  1, CIFAR-10 Batch 4:  Loss:     1.8070 Validation Accuracy: 0.343400\n",
      "Epoch  1, CIFAR-10 Batch 5:  Loss:     1.8080 Validation Accuracy: 0.348800\n",
      "Epoch  2, CIFAR-10 Batch 1:  Loss:     1.7384 Validation Accuracy: 0.389600\n",
      "Epoch  2, CIFAR-10 Batch 2:  Loss:     1.6730 Validation Accuracy: 0.403600\n",
      "Epoch  2, CIFAR-10 Batch 3:  Loss:     1.6127 Validation Accuracy: 0.396400\n",
      "Epoch  2, CIFAR-10 Batch 4:  Loss:     1.5779 Validation Accuracy: 0.418200\n",
      "Epoch  2, CIFAR-10 Batch 5:  Loss:     1.5821 Validation Accuracy: 0.435200\n",
      "Epoch  3, CIFAR-10 Batch 1:  Loss:     1.5341 Validation Accuracy: 0.433600\n",
      "Epoch  3, CIFAR-10 Batch 2:  Loss:     1.5488 Validation Accuracy: 0.450000\n",
      "Epoch  3, CIFAR-10 Batch 3:  Loss:     1.4770 Validation Accuracy: 0.444400\n",
      "Epoch  3, CIFAR-10 Batch 4:  Loss:     1.4378 Validation Accuracy: 0.468400\n",
      "Epoch  3, CIFAR-10 Batch 5:  Loss:     1.4654 Validation Accuracy: 0.473800\n",
      "Epoch  4, CIFAR-10 Batch 1:  Loss:     1.4135 Validation Accuracy: 0.472800\n",
      "Epoch  4, CIFAR-10 Batch 2:  Loss:     1.4528 Validation Accuracy: 0.479800\n",
      "Epoch  4, CIFAR-10 Batch 3:  Loss:     1.4062 Validation Accuracy: 0.458200\n",
      "Epoch  4, CIFAR-10 Batch 4:  Loss:     1.3661 Validation Accuracy: 0.488000\n",
      "Epoch  4, CIFAR-10 Batch 5:  Loss:     1.3862 Validation Accuracy: 0.501000\n",
      "Epoch  5, CIFAR-10 Batch 1:  Loss:     1.3536 Validation Accuracy: 0.490000\n",
      "Epoch  5, CIFAR-10 Batch 2:  Loss:     1.3610 Validation Accuracy: 0.505400\n",
      "Epoch  5, CIFAR-10 Batch 3:  Loss:     1.2873 Validation Accuracy: 0.510200\n",
      "Epoch  5, CIFAR-10 Batch 4:  Loss:     1.3112 Validation Accuracy: 0.506800\n",
      "Epoch  5, CIFAR-10 Batch 5:  Loss:     1.3273 Validation Accuracy: 0.512000\n",
      "Epoch  6, CIFAR-10 Batch 1:  Loss:     1.3101 Validation Accuracy: 0.501000\n",
      "Epoch  6, CIFAR-10 Batch 2:  Loss:     1.3462 Validation Accuracy: 0.503800\n",
      "Epoch  6, CIFAR-10 Batch 3:  Loss:     1.2552 Validation Accuracy: 0.527200\n",
      "Epoch  6, CIFAR-10 Batch 4:  Loss:     1.2381 Validation Accuracy: 0.523000\n",
      "Epoch  6, CIFAR-10 Batch 5:  Loss:     1.2535 Validation Accuracy: 0.533600\n",
      "Epoch  7, CIFAR-10 Batch 1:  Loss:     1.1966 Validation Accuracy: 0.536600\n",
      "Epoch  7, CIFAR-10 Batch 2:  Loss:     1.3157 Validation Accuracy: 0.510600\n",
      "Epoch  7, CIFAR-10 Batch 3:  Loss:     1.2234 Validation Accuracy: 0.530600\n",
      "Epoch  7, CIFAR-10 Batch 4:  Loss:     1.2134 Validation Accuracy: 0.533000\n",
      "Epoch  7, CIFAR-10 Batch 5:  Loss:     1.2100 Validation Accuracy: 0.544600\n",
      "Epoch  8, CIFAR-10 Batch 1:  Loss:     1.1620 Validation Accuracy: 0.543000\n",
      "Epoch  8, CIFAR-10 Batch 2:  Loss:     1.2575 Validation Accuracy: 0.526800\n",
      "Epoch  8, CIFAR-10 Batch 3:  Loss:     1.1486 Validation Accuracy: 0.552600\n",
      "Epoch  8, CIFAR-10 Batch 4:  Loss:     1.1514 Validation Accuracy: 0.544200\n",
      "Epoch  8, CIFAR-10 Batch 5:  Loss:     1.1514 Validation Accuracy: 0.553400\n",
      "Epoch  9, CIFAR-10 Batch 1:  Loss:     1.1161 Validation Accuracy: 0.556000\n",
      "Epoch  9, CIFAR-10 Batch 2:  Loss:     1.1853 Validation Accuracy: 0.548400\n",
      "Epoch  9, CIFAR-10 Batch 3:  Loss:     1.1192 Validation Accuracy: 0.561600\n",
      "Epoch  9, CIFAR-10 Batch 4:  Loss:     1.1108 Validation Accuracy: 0.547800\n",
      "Epoch  9, CIFAR-10 Batch 5:  Loss:     1.1075 Validation Accuracy: 0.564400\n",
      "Epoch 10, CIFAR-10 Batch 1:  Loss:     1.0842 Validation Accuracy: 0.561400\n",
      "Epoch 10, CIFAR-10 Batch 2:  Loss:     1.1481 Validation Accuracy: 0.553400\n",
      "Epoch 10, CIFAR-10 Batch 3:  Loss:     1.0807 Validation Accuracy: 0.572000\n",
      "Epoch 10, CIFAR-10 Batch 4:  Loss:     1.0642 Validation Accuracy: 0.563200\n",
      "Epoch 10, CIFAR-10 Batch 5:  Loss:     1.0712 Validation Accuracy: 0.574400\n",
      "Epoch 11, CIFAR-10 Batch 1:  Loss:     1.0659 Validation Accuracy: 0.562400\n",
      "Epoch 11, CIFAR-10 Batch 2:  Loss:     1.1028 Validation Accuracy: 0.570800\n",
      "Epoch 11, CIFAR-10 Batch 3:  Loss:     1.0513 Validation Accuracy: 0.584600\n",
      "Epoch 11, CIFAR-10 Batch 4:  Loss:     1.0079 Validation Accuracy: 0.583200\n",
      "Epoch 11, CIFAR-10 Batch 5:  Loss:     1.0300 Validation Accuracy: 0.585800\n",
      "Epoch 12, CIFAR-10 Batch 1:  Loss:     1.0212 Validation Accuracy: 0.574000\n",
      "Epoch 12, CIFAR-10 Batch 2:  Loss:     1.0835 Validation Accuracy: 0.572600\n",
      "Epoch 12, CIFAR-10 Batch 3:  Loss:     1.0212 Validation Accuracy: 0.590400\n",
      "Epoch 12, CIFAR-10 Batch 4:  Loss:     0.9904 Validation Accuracy: 0.581400\n",
      "Epoch 12, CIFAR-10 Batch 5:  Loss:     0.9932 Validation Accuracy: 0.590200\n",
      "Epoch 13, CIFAR-10 Batch 1:  Loss:     0.9800 Validation Accuracy: 0.583000\n",
      "Epoch 13, CIFAR-10 Batch 2:  Loss:     1.0267 Validation Accuracy: 0.590800\n",
      "Epoch 13, CIFAR-10 Batch 3:  Loss:     0.9913 Validation Accuracy: 0.598400\n",
      "Epoch 13, CIFAR-10 Batch 4:  Loss:     0.9649 Validation Accuracy: 0.593200\n",
      "Epoch 13, CIFAR-10 Batch 5:  Loss:     0.9620 Validation Accuracy: 0.594600\n",
      "Epoch 14, CIFAR-10 Batch 1:  Loss:     0.9704 Validation Accuracy: 0.581000\n",
      "Epoch 14, CIFAR-10 Batch 2:  Loss:     0.9986 Validation Accuracy: 0.591000\n",
      "Epoch 14, CIFAR-10 Batch 3:  Loss:     0.9886 Validation Accuracy: 0.591600\n",
      "Epoch 14, CIFAR-10 Batch 4:  Loss:     0.9374 Validation Accuracy: 0.595800\n",
      "Epoch 14, CIFAR-10 Batch 5:  Loss:     0.9366 Validation Accuracy: 0.603800\n",
      "Epoch 15, CIFAR-10 Batch 1:  Loss:     0.9199 Validation Accuracy: 0.595200\n",
      "Epoch 15, CIFAR-10 Batch 2:  Loss:     0.9614 Validation Accuracy: 0.597200\n",
      "Epoch 15, CIFAR-10 Batch 3:  Loss:     0.9473 Validation Accuracy: 0.607000\n",
      "Epoch 15, CIFAR-10 Batch 4:  Loss:     0.9163 Validation Accuracy: 0.598400\n",
      "Epoch 15, CIFAR-10 Batch 5:  Loss:     0.9096 Validation Accuracy: 0.605200\n",
      "Epoch 16, CIFAR-10 Batch 1:  Loss:     0.9057 Validation Accuracy: 0.596800\n",
      "Epoch 16, CIFAR-10 Batch 2:  Loss:     0.9365 Validation Accuracy: 0.601400\n",
      "Epoch 16, CIFAR-10 Batch 3:  Loss:     0.9202 Validation Accuracy: 0.610200\n",
      "Epoch 16, CIFAR-10 Batch 4:  Loss:     0.8795 Validation Accuracy: 0.606200\n",
      "Epoch 16, CIFAR-10 Batch 5:  Loss:     0.8745 Validation Accuracy: 0.608000\n",
      "Epoch 17, CIFAR-10 Batch 1:  Loss:     0.8921 Validation Accuracy: 0.601800\n",
      "Epoch 17, CIFAR-10 Batch 2:  Loss:     0.8974 Validation Accuracy: 0.608200\n",
      "Epoch 17, CIFAR-10 Batch 3:  Loss:     0.8857 Validation Accuracy: 0.612400\n",
      "Epoch 17, CIFAR-10 Batch 4:  Loss:     0.8746 Validation Accuracy: 0.601000\n",
      "Epoch 17, CIFAR-10 Batch 5:  Loss:     0.8553 Validation Accuracy: 0.613200\n",
      "Epoch 18, CIFAR-10 Batch 1:  Loss:     0.8528 Validation Accuracy: 0.607200\n",
      "Epoch 18, CIFAR-10 Batch 2:  Loss:     0.8708 Validation Accuracy: 0.613000\n",
      "Epoch 18, CIFAR-10 Batch 3:  Loss:     0.8558 Validation Accuracy: 0.621000\n",
      "Epoch 18, CIFAR-10 Batch 4:  Loss:     0.8462 Validation Accuracy: 0.614400\n",
      "Epoch 18, CIFAR-10 Batch 5:  Loss:     0.8440 Validation Accuracy: 0.613400\n",
      "Epoch 19, CIFAR-10 Batch 1:  Loss:     0.8281 Validation Accuracy: 0.609200\n",
      "Epoch 19, CIFAR-10 Batch 2:  Loss:     0.8691 Validation Accuracy: 0.608200\n",
      "Epoch 19, CIFAR-10 Batch 3:  Loss:     0.8374 Validation Accuracy: 0.623200\n",
      "Epoch 19, CIFAR-10 Batch 4:  Loss:     0.8185 Validation Accuracy: 0.614200\n",
      "Epoch 19, CIFAR-10 Batch 5:  Loss:     0.8475 Validation Accuracy: 0.611200\n",
      "Epoch 20, CIFAR-10 Batch 1:  Loss:     0.8045 Validation Accuracy: 0.613000\n",
      "Epoch 20, CIFAR-10 Batch 2:  Loss:     0.8575 Validation Accuracy: 0.601600\n",
      "Epoch 20, CIFAR-10 Batch 3:  Loss:     0.8682 Validation Accuracy: 0.606600\n",
      "Epoch 20, CIFAR-10 Batch 4:  Loss:     0.8048 Validation Accuracy: 0.618000\n",
      "Epoch 20, CIFAR-10 Batch 5:  Loss:     0.7995 Validation Accuracy: 0.615200\n",
      "Epoch 21, CIFAR-10 Batch 1:  Loss:     0.7608 Validation Accuracy: 0.624400\n",
      "Epoch 21, CIFAR-10 Batch 2:  Loss:     0.8333 Validation Accuracy: 0.614600\n",
      "Epoch 21, CIFAR-10 Batch 3:  Loss:     0.8204 Validation Accuracy: 0.623800\n",
      "Epoch 21, CIFAR-10 Batch 4:  Loss:     0.7808 Validation Accuracy: 0.617800\n",
      "Epoch 21, CIFAR-10 Batch 5:  Loss:     0.7920 Validation Accuracy: 0.619400\n",
      "Epoch 22, CIFAR-10 Batch 1:  Loss:     0.7326 Validation Accuracy: 0.629800\n",
      "Epoch 22, CIFAR-10 Batch 2:  Loss:     0.8017 Validation Accuracy: 0.616800\n",
      "Epoch 22, CIFAR-10 Batch 3:  Loss:     0.8074 Validation Accuracy: 0.622800\n",
      "Epoch 22, CIFAR-10 Batch 4:  Loss:     0.7705 Validation Accuracy: 0.622200\n",
      "Epoch 22, CIFAR-10 Batch 5:  Loss:     0.7683 Validation Accuracy: 0.622200\n",
      "Epoch 23, CIFAR-10 Batch 1:  Loss:     0.7257 Validation Accuracy: 0.631000\n",
      "Epoch 23, CIFAR-10 Batch 2:  Loss:     0.7556 Validation Accuracy: 0.627400\n",
      "Epoch 23, CIFAR-10 Batch 3:  Loss:     0.7577 Validation Accuracy: 0.625600\n",
      "Epoch 23, CIFAR-10 Batch 4:  Loss:     0.7581 Validation Accuracy: 0.621600\n",
      "Epoch 23, CIFAR-10 Batch 5:  Loss:     0.7438 Validation Accuracy: 0.621600\n",
      "Epoch 24, CIFAR-10 Batch 1:  Loss:     0.6934 Validation Accuracy: 0.638000\n",
      "Epoch 24, CIFAR-10 Batch 2:  Loss:     0.7342 Validation Accuracy: 0.624400\n",
      "Epoch 24, CIFAR-10 Batch 3:  Loss:     0.7570 Validation Accuracy: 0.619400\n",
      "Epoch 24, CIFAR-10 Batch 4:  Loss:     0.7442 Validation Accuracy: 0.619000\n",
      "Epoch 24, CIFAR-10 Batch 5:  Loss:     0.7308 Validation Accuracy: 0.622200\n",
      "Epoch 25, CIFAR-10 Batch 1:  Loss:     0.6685 Validation Accuracy: 0.635800\n",
      "Epoch 25, CIFAR-10 Batch 2:  Loss:     0.7276 Validation Accuracy: 0.620000\n",
      "Epoch 25, CIFAR-10 Batch 3:  Loss:     0.7306 Validation Accuracy: 0.622000\n",
      "Epoch 25, CIFAR-10 Batch 4:  Loss:     0.7076 Validation Accuracy: 0.629600\n",
      "Epoch 25, CIFAR-10 Batch 5:  Loss:     0.7221 Validation Accuracy: 0.624800\n",
      "Epoch 26, CIFAR-10 Batch 1:  Loss:     0.6497 Validation Accuracy: 0.635000\n",
      "Epoch 26, CIFAR-10 Batch 2:  Loss:     0.7116 Validation Accuracy: 0.627200\n",
      "Epoch 26, CIFAR-10 Batch 3:  Loss:     0.7244 Validation Accuracy: 0.616200\n",
      "Epoch 26, CIFAR-10 Batch 4:  Loss:     0.7054 Validation Accuracy: 0.624000\n",
      "Epoch 26, CIFAR-10 Batch 5:  Loss:     0.7125 Validation Accuracy: 0.620200\n",
      "Epoch 27, CIFAR-10 Batch 1:  Loss:     0.6484 Validation Accuracy: 0.640200\n",
      "Epoch 27, CIFAR-10 Batch 2:  Loss:     0.6806 Validation Accuracy: 0.634600\n",
      "Epoch 27, CIFAR-10 Batch 3:  Loss:     0.7073 Validation Accuracy: 0.619200\n",
      "Epoch 27, CIFAR-10 Batch 4:  Loss:     0.7129 Validation Accuracy: 0.610200\n",
      "Epoch 27, CIFAR-10 Batch 5:  Loss:     0.6994 Validation Accuracy: 0.625000\n",
      "Epoch 28, CIFAR-10 Batch 1:  Loss:     0.6468 Validation Accuracy: 0.635600\n",
      "Epoch 28, CIFAR-10 Batch 2:  Loss:     0.6653 Validation Accuracy: 0.636800\n",
      "Epoch 28, CIFAR-10 Batch 3:  Loss:     0.6970 Validation Accuracy: 0.611400\n",
      "Epoch 28, CIFAR-10 Batch 4:  Loss:     0.6720 Validation Accuracy: 0.620200\n",
      "Epoch 28, CIFAR-10 Batch 5:  Loss:     0.6693 Validation Accuracy: 0.623400\n",
      "Epoch 29, CIFAR-10 Batch 1:  Loss:     0.6319 Validation Accuracy: 0.633600\n",
      "Epoch 29, CIFAR-10 Batch 2:  Loss:     0.6456 Validation Accuracy: 0.633400\n",
      "Epoch 29, CIFAR-10 Batch 3:  Loss:     0.6740 Validation Accuracy: 0.620400\n",
      "Epoch 29, CIFAR-10 Batch 4:  Loss:     0.6820 Validation Accuracy: 0.621200\n",
      "Epoch 29, CIFAR-10 Batch 5:  Loss:     0.6903 Validation Accuracy: 0.626000\n",
      "Epoch 30, CIFAR-10 Batch 1:  Loss:     0.5980 Validation Accuracy: 0.632600\n",
      "Epoch 30, CIFAR-10 Batch 2:  Loss:     0.6641 Validation Accuracy: 0.618600\n",
      "Epoch 30, CIFAR-10 Batch 3:  Loss:     0.6610 Validation Accuracy: 0.626000\n",
      "Epoch 30, CIFAR-10 Batch 4:  Loss:     0.7077 Validation Accuracy: 0.610400\n",
      "Epoch 30, CIFAR-10 Batch 5:  Loss:     0.6570 Validation Accuracy: 0.621800\n",
      "Epoch 31, CIFAR-10 Batch 1:  Loss:     0.6142 Validation Accuracy: 0.635000\n",
      "Epoch 31, CIFAR-10 Batch 2:  Loss:     0.6401 Validation Accuracy: 0.628400\n",
      "Epoch 31, CIFAR-10 Batch 3:  Loss:     0.6199 Validation Accuracy: 0.633600\n",
      "Epoch 31, CIFAR-10 Batch 4:  Loss:     0.6639 Validation Accuracy: 0.619000\n",
      "Epoch 31, CIFAR-10 Batch 5:  Loss:     0.6339 Validation Accuracy: 0.626600\n",
      "Epoch 32, CIFAR-10 Batch 1:  Loss:     0.6006 Validation Accuracy: 0.639000\n",
      "Epoch 32, CIFAR-10 Batch 2:  Loss:     0.6169 Validation Accuracy: 0.629400\n",
      "Epoch 32, CIFAR-10 Batch 3:  Loss:     0.5748 Validation Accuracy: 0.644000\n",
      "Epoch 32, CIFAR-10 Batch 4:  Loss:     0.6098 Validation Accuracy: 0.634800\n",
      "Epoch 32, CIFAR-10 Batch 5:  Loss:     0.6046 Validation Accuracy: 0.629200\n",
      "Epoch 33, CIFAR-10 Batch 1:  Loss:     0.5952 Validation Accuracy: 0.635800\n",
      "Epoch 33, CIFAR-10 Batch 2:  Loss:     0.6283 Validation Accuracy: 0.626400\n",
      "Epoch 33, CIFAR-10 Batch 3:  Loss:     0.5716 Validation Accuracy: 0.639800\n",
      "Epoch 33, CIFAR-10 Batch 4:  Loss:     0.6279 Validation Accuracy: 0.623600\n",
      "Epoch 33, CIFAR-10 Batch 5:  Loss:     0.6217 Validation Accuracy: 0.621600\n",
      "Epoch 34, CIFAR-10 Batch 1:  Loss:     0.6006 Validation Accuracy: 0.624200\n",
      "Epoch 34, CIFAR-10 Batch 2:  Loss:     0.6062 Validation Accuracy: 0.635600\n",
      "Epoch 34, CIFAR-10 Batch 3:  Loss:     0.6745 Validation Accuracy: 0.611000\n",
      "Epoch 34, CIFAR-10 Batch 4:  Loss:     0.6528 Validation Accuracy: 0.614800\n",
      "Epoch 34, CIFAR-10 Batch 5:  Loss:     0.5914 Validation Accuracy: 0.637800\n",
      "Epoch 35, CIFAR-10 Batch 1:  Loss:     0.5574 Validation Accuracy: 0.637000\n",
      "Epoch 35, CIFAR-10 Batch 2:  Loss:     0.5859 Validation Accuracy: 0.643800\n",
      "Epoch 35, CIFAR-10 Batch 3:  Loss:     0.5959 Validation Accuracy: 0.624600\n",
      "Epoch 35, CIFAR-10 Batch 4:  Loss:     0.6082 Validation Accuracy: 0.621000\n",
      "Epoch 35, CIFAR-10 Batch 5:  Loss:     0.5807 Validation Accuracy: 0.634400\n",
      "Epoch 36, CIFAR-10 Batch 1:  Loss:     0.5391 Validation Accuracy: 0.634400\n",
      "Epoch 36, CIFAR-10 Batch 2:  Loss:     0.5628 Validation Accuracy: 0.646800\n",
      "Epoch 36, CIFAR-10 Batch 3:  Loss:     0.5614 Validation Accuracy: 0.633600\n",
      "Epoch 36, CIFAR-10 Batch 4:  Loss:     0.5799 Validation Accuracy: 0.624600\n",
      "Epoch 36, CIFAR-10 Batch 5:  Loss:     0.5784 Validation Accuracy: 0.631800\n",
      "Epoch 37, CIFAR-10 Batch 1:  Loss:     0.5365 Validation Accuracy: 0.634000\n",
      "Epoch 37, CIFAR-10 Batch 2:  Loss:     0.5539 Validation Accuracy: 0.648800\n",
      "Epoch 37, CIFAR-10 Batch 3:  Loss:     0.5551 Validation Accuracy: 0.632400\n",
      "Epoch 37, CIFAR-10 Batch 4:  Loss:     0.5986 Validation Accuracy: 0.616200\n",
      "Epoch 37, CIFAR-10 Batch 5:  Loss:     0.5509 Validation Accuracy: 0.629800\n",
      "Epoch 38, CIFAR-10 Batch 1:  Loss:     0.4843 Validation Accuracy: 0.647800\n",
      "Epoch 38, CIFAR-10 Batch 2:  Loss:     0.5291 Validation Accuracy: 0.643000\n",
      "Epoch 38, CIFAR-10 Batch 3:  Loss:     0.5358 Validation Accuracy: 0.636600\n",
      "Epoch 38, CIFAR-10 Batch 4:  Loss:     0.6138 Validation Accuracy: 0.608800\n",
      "Epoch 38, CIFAR-10 Batch 5:  Loss:     0.5041 Validation Accuracy: 0.636800\n",
      "Epoch 39, CIFAR-10 Batch 1:  Loss:     0.5133 Validation Accuracy: 0.641400\n",
      "Epoch 39, CIFAR-10 Batch 2:  Loss:     0.5236 Validation Accuracy: 0.638800\n",
      "Epoch 39, CIFAR-10 Batch 3:  Loss:     0.5448 Validation Accuracy: 0.630400\n",
      "Epoch 39, CIFAR-10 Batch 4:  Loss:     0.5653 Validation Accuracy: 0.624200\n",
      "Epoch 39, CIFAR-10 Batch 5:  Loss:     0.5541 Validation Accuracy: 0.610600\n",
      "Epoch 40, CIFAR-10 Batch 1:  Loss:     0.4909 Validation Accuracy: 0.640200\n",
      "Epoch 40, CIFAR-10 Batch 2:  Loss:     0.5269 Validation Accuracy: 0.637000\n",
      "Epoch 40, CIFAR-10 Batch 3:  Loss:     0.5194 Validation Accuracy: 0.635200\n",
      "Epoch 40, CIFAR-10 Batch 4:  Loss:     0.5428 Validation Accuracy: 0.632200\n",
      "Epoch 40, CIFAR-10 Batch 5:  Loss:     0.5430 Validation Accuracy: 0.613600\n",
      "Epoch 41, CIFAR-10 Batch 1:  Loss:     0.4513 Validation Accuracy: 0.642000\n",
      "Epoch 41, CIFAR-10 Batch 2:  Loss:     0.5101 Validation Accuracy: 0.635600\n",
      "Epoch 41, CIFAR-10 Batch 3:  Loss:     0.5089 Validation Accuracy: 0.635600\n",
      "Epoch 41, CIFAR-10 Batch 4:  Loss:     0.5229 Validation Accuracy: 0.633200\n",
      "Epoch 41, CIFAR-10 Batch 5:  Loss:     0.5019 Validation Accuracy: 0.634600\n",
      "Epoch 42, CIFAR-10 Batch 1:  Loss:     0.4411 Validation Accuracy: 0.640400\n",
      "Epoch 42, CIFAR-10 Batch 2:  Loss:     0.4925 Validation Accuracy: 0.632200\n",
      "Epoch 42, CIFAR-10 Batch 3:  Loss:     0.4967 Validation Accuracy: 0.636400\n",
      "Epoch 42, CIFAR-10 Batch 4:  Loss:     0.5054 Validation Accuracy: 0.636200\n",
      "Epoch 42, CIFAR-10 Batch 5:  Loss:     0.4970 Validation Accuracy: 0.630600\n",
      "Epoch 43, CIFAR-10 Batch 1:  Loss:     0.4448 Validation Accuracy: 0.636600\n",
      "Epoch 43, CIFAR-10 Batch 2:  Loss:     0.4856 Validation Accuracy: 0.634200\n",
      "Epoch 43, CIFAR-10 Batch 3:  Loss:     0.5012 Validation Accuracy: 0.634800\n",
      "Epoch 43, CIFAR-10 Batch 4:  Loss:     0.5438 Validation Accuracy: 0.627600\n",
      "Epoch 43, CIFAR-10 Batch 5:  Loss:     0.4886 Validation Accuracy: 0.634000\n",
      "Epoch 44, CIFAR-10 Batch 1:  Loss:     0.4514 Validation Accuracy: 0.635600\n",
      "Epoch 44, CIFAR-10 Batch 2:  Loss:     0.4917 Validation Accuracy: 0.636600\n",
      "Epoch 44, CIFAR-10 Batch 3:  Loss:     0.5019 Validation Accuracy: 0.632000\n",
      "Epoch 44, CIFAR-10 Batch 4:  Loss:     0.5182 Validation Accuracy: 0.631200\n",
      "Epoch 44, CIFAR-10 Batch 5:  Loss:     0.5547 Validation Accuracy: 0.609400\n",
      "Epoch 45, CIFAR-10 Batch 1:  Loss:     0.4452 Validation Accuracy: 0.638600\n",
      "Epoch 45, CIFAR-10 Batch 2:  Loss:     0.5380 Validation Accuracy: 0.616200\n",
      "Epoch 45, CIFAR-10 Batch 3:  Loss:     0.4766 Validation Accuracy: 0.636800\n",
      "Epoch 45, CIFAR-10 Batch 4:  Loss:     0.5208 Validation Accuracy: 0.628000\n",
      "Epoch 45, CIFAR-10 Batch 5:  Loss:     0.4994 Validation Accuracy: 0.624200\n",
      "Epoch 46, CIFAR-10 Batch 1:  Loss:     0.4354 Validation Accuracy: 0.643400\n",
      "Epoch 46, CIFAR-10 Batch 2:  Loss:     0.4576 Validation Accuracy: 0.639200\n",
      "Epoch 46, CIFAR-10 Batch 3:  Loss:     0.4810 Validation Accuracy: 0.632200\n",
      "Epoch 46, CIFAR-10 Batch 4:  Loss:     0.5058 Validation Accuracy: 0.620400\n",
      "Epoch 46, CIFAR-10 Batch 5:  Loss:     0.5107 Validation Accuracy: 0.607200\n",
      "Epoch 47, CIFAR-10 Batch 1:  Loss:     0.4286 Validation Accuracy: 0.640800\n",
      "Epoch 47, CIFAR-10 Batch 2:  Loss:     0.4547 Validation Accuracy: 0.638200\n",
      "Epoch 47, CIFAR-10 Batch 3:  Loss:     0.4410 Validation Accuracy: 0.638400\n",
      "Epoch 47, CIFAR-10 Batch 4:  Loss:     0.4649 Validation Accuracy: 0.633800\n",
      "Epoch 47, CIFAR-10 Batch 5:  Loss:     0.4659 Validation Accuracy: 0.618600\n",
      "Epoch 48, CIFAR-10 Batch 1:  Loss:     0.4177 Validation Accuracy: 0.635200\n",
      "Epoch 48, CIFAR-10 Batch 2:  Loss:     0.4471 Validation Accuracy: 0.641400\n",
      "Epoch 48, CIFAR-10 Batch 3:  Loss:     0.4128 Validation Accuracy: 0.646000\n",
      "Epoch 48, CIFAR-10 Batch 4:  Loss:     0.4819 Validation Accuracy: 0.626400\n",
      "Epoch 48, CIFAR-10 Batch 5:  Loss:     0.4429 Validation Accuracy: 0.626200\n",
      "Epoch 49, CIFAR-10 Batch 1:  Loss:     0.4509 Validation Accuracy: 0.626000\n",
      "Epoch 49, CIFAR-10 Batch 2:  Loss:     0.4885 Validation Accuracy: 0.619600\n",
      "Epoch 49, CIFAR-10 Batch 3:  Loss:     0.4628 Validation Accuracy: 0.627800\n",
      "Epoch 49, CIFAR-10 Batch 4:  Loss:     0.5221 Validation Accuracy: 0.612800\n",
      "Epoch 49, CIFAR-10 Batch 5:  Loss:     0.4381 Validation Accuracy: 0.638200\n",
      "Epoch 50, CIFAR-10 Batch 1:  Loss:     0.4376 Validation Accuracy: 0.627800\n",
      "Epoch 50, CIFAR-10 Batch 2:  Loss:     0.4343 Validation Accuracy: 0.634400\n",
      "Epoch 50, CIFAR-10 Batch 3:  Loss:     0.4181 Validation Accuracy: 0.635200\n",
      "Epoch 50, CIFAR-10 Batch 4:  Loss:     0.4840 Validation Accuracy: 0.616400\n",
      "Epoch 50, CIFAR-10 Batch 5:  Loss:     0.4117 Validation Accuracy: 0.636200\n",
      "Epoch 51, CIFAR-10 Batch 1:  Loss:     0.3847 Validation Accuracy: 0.636200\n",
      "Epoch 51, CIFAR-10 Batch 2:  Loss:     0.4155 Validation Accuracy: 0.639200\n",
      "Epoch 51, CIFAR-10 Batch 3:  Loss:     0.4069 Validation Accuracy: 0.637800\n",
      "Epoch 51, CIFAR-10 Batch 4:  Loss:     0.4353 Validation Accuracy: 0.630400\n",
      "Epoch 51, CIFAR-10 Batch 5:  Loss:     0.4133 Validation Accuracy: 0.626000\n",
      "Epoch 52, CIFAR-10 Batch 1:  Loss:     0.3693 Validation Accuracy: 0.635400\n",
      "Epoch 52, CIFAR-10 Batch 2:  Loss:     0.4375 Validation Accuracy: 0.631800\n",
      "Epoch 52, CIFAR-10 Batch 3:  Loss:     0.4052 Validation Accuracy: 0.629400\n",
      "Epoch 52, CIFAR-10 Batch 4:  Loss:     0.4002 Validation Accuracy: 0.638000\n",
      "Epoch 52, CIFAR-10 Batch 5:  Loss:     0.3931 Validation Accuracy: 0.629400\n",
      "Epoch 53, CIFAR-10 Batch 1:  Loss:     0.3684 Validation Accuracy: 0.635800\n",
      "Epoch 53, CIFAR-10 Batch 2:  Loss:     0.4210 Validation Accuracy: 0.629600\n",
      "Epoch 53, CIFAR-10 Batch 3:  Loss:     0.4282 Validation Accuracy: 0.625600\n",
      "Epoch 53, CIFAR-10 Batch 4:  Loss:     0.4310 Validation Accuracy: 0.631200\n",
      "Epoch 53, CIFAR-10 Batch 5:  Loss:     0.3669 Validation Accuracy: 0.640600\n",
      "Epoch 54, CIFAR-10 Batch 1:  Loss:     0.3740 Validation Accuracy: 0.631800\n",
      "Epoch 54, CIFAR-10 Batch 2:  Loss:     0.4147 Validation Accuracy: 0.631200\n",
      "Epoch 54, CIFAR-10 Batch 3:  Loss:     0.4170 Validation Accuracy: 0.626000\n",
      "Epoch 54, CIFAR-10 Batch 4:  Loss:     0.4279 Validation Accuracy: 0.632400\n",
      "Epoch 54, CIFAR-10 Batch 5:  Loss:     0.3545 Validation Accuracy: 0.639400\n",
      "Epoch 55, CIFAR-10 Batch 1:  Loss:     0.3513 Validation Accuracy: 0.641200\n",
      "Epoch 55, CIFAR-10 Batch 2:  Loss:     0.4073 Validation Accuracy: 0.631000\n",
      "Epoch 55, CIFAR-10 Batch 3:  Loss:     0.4132 Validation Accuracy: 0.632000\n",
      "Epoch 55, CIFAR-10 Batch 4:  Loss:     0.4081 Validation Accuracy: 0.627000\n",
      "Epoch 55, CIFAR-10 Batch 5:  Loss:     0.3759 Validation Accuracy: 0.630600\n",
      "Epoch 56, CIFAR-10 Batch 1:  Loss:     0.3370 Validation Accuracy: 0.642800\n",
      "Epoch 56, CIFAR-10 Batch 2:  Loss:     0.3742 Validation Accuracy: 0.633400\n",
      "Epoch 56, CIFAR-10 Batch 3:  Loss:     0.3962 Validation Accuracy: 0.629800\n",
      "Epoch 56, CIFAR-10 Batch 4:  Loss:     0.4216 Validation Accuracy: 0.619000\n",
      "Epoch 56, CIFAR-10 Batch 5:  Loss:     0.3615 Validation Accuracy: 0.630600\n",
      "Epoch 57, CIFAR-10 Batch 1:  Loss:     0.3365 Validation Accuracy: 0.640800\n",
      "Epoch 57, CIFAR-10 Batch 2:  Loss:     0.3676 Validation Accuracy: 0.626200\n",
      "Epoch 57, CIFAR-10 Batch 3:  Loss:     0.3643 Validation Accuracy: 0.635400\n",
      "Epoch 57, CIFAR-10 Batch 4:  Loss:     0.3960 Validation Accuracy: 0.623200\n",
      "Epoch 57, CIFAR-10 Batch 5:  Loss:     0.3775 Validation Accuracy: 0.626200\n",
      "Epoch 58, CIFAR-10 Batch 1:  Loss:     0.3367 Validation Accuracy: 0.643600\n",
      "Epoch 58, CIFAR-10 Batch 2:  Loss:     0.3609 Validation Accuracy: 0.631400\n",
      "Epoch 58, CIFAR-10 Batch 3:  Loss:     0.3838 Validation Accuracy: 0.631200\n",
      "Epoch 58, CIFAR-10 Batch 4:  Loss:     0.4128 Validation Accuracy: 0.622600\n",
      "Epoch 58, CIFAR-10 Batch 5:  Loss:     0.3746 Validation Accuracy: 0.618400\n",
      "Epoch 59, CIFAR-10 Batch 1:  Loss:     0.3855 Validation Accuracy: 0.620000\n",
      "Epoch 59, CIFAR-10 Batch 2:  Loss:     0.4135 Validation Accuracy: 0.615600\n",
      "Epoch 59, CIFAR-10 Batch 3:  Loss:     0.4167 Validation Accuracy: 0.618400\n",
      "Epoch 59, CIFAR-10 Batch 4:  Loss:     0.4914 Validation Accuracy: 0.593200\n",
      "Epoch 59, CIFAR-10 Batch 5:  Loss:     0.3922 Validation Accuracy: 0.611200\n",
      "Epoch 60, CIFAR-10 Batch 1:  Loss:     0.4008 Validation Accuracy: 0.620200\n",
      "Epoch 60, CIFAR-10 Batch 2:  Loss:     0.4339 Validation Accuracy: 0.614200\n",
      "Epoch 60, CIFAR-10 Batch 3:  Loss:     0.4131 Validation Accuracy: 0.619000\n",
      "Epoch 60, CIFAR-10 Batch 4:  Loss:     0.4248 Validation Accuracy: 0.614000\n",
      "Epoch 60, CIFAR-10 Batch 5:  Loss:     0.3817 Validation Accuracy: 0.616600\n"
     ]
    }
   ],
   "source": [
    "\"\"\"\n",
    "DON'T MODIFY ANYTHING IN THIS CELL\n",
    "\"\"\"\n",
    "save_model_path = './image_classification'\n",
    "\n",
    "print('Training...')\n",
    "with tf.Session() as sess:\n",
    "    # Initializing the variables\n",
    "    sess.run(tf.global_variables_initializer())\n",
    "    \n",
    "    # Training cycle\n",
    "    for epoch in range(epochs):\n",
    "        # Loop over all batches\n",
    "        n_batches = 5\n",
    "        for batch_i in range(1, n_batches + 1):\n",
    "            for batch_features, batch_labels in helper.load_preprocess_training_batch(batch_i, batch_size):\n",
    "                train_neural_network(sess, optimizer, keep_probability, batch_features, batch_labels)\n",
    "            print('Epoch {:>2}, CIFAR-10 Batch {}:  '.format(epoch + 1, batch_i), end='')\n",
    "            print_stats(sess, batch_features, batch_labels, cost, accuracy)\n",
    "            \n",
    "    # Save Model\n",
    "    saver = tf.train.Saver()\n",
    "    save_path = saver.save(sess, save_model_path)"
   ]
  },
  {
   "cell_type": "markdown",
   "metadata": {
    "deletable": true,
    "editable": true
   },
   "source": [
    "# Checkpoint\n",
    "The model has been saved to disk.\n",
    "## Test Model\n",
    "Test your model against the test dataset.  This will be your final accuracy. You should have an accuracy greater than 50%. If you don't, keep tweaking the model architecture and parameters."
   ]
  },
  {
   "cell_type": "code",
   "execution_count": 18,
   "metadata": {
    "collapsed": false,
    "deletable": true,
    "editable": true
   },
   "outputs": [
    {
     "name": "stdout",
     "output_type": "stream",
     "text": [
      "Testing Accuracy: 0.6185865700244904\n",
      "\n"
     ]
    },
    {
     "data": {
      "image/png": "[encoded data removed]",
      "text/plain": [
       "<matplotlib.figure.Figure at 0x7fa42cd74ef0>"
      ]
     },
     "metadata": {
      "image/png": {
       "height": 319,
       "width": 355
      }
     },
     "output_type": "display_data"
    }
   ],
   "source": [
    "\"\"\"\n",
    "DON'T MODIFY ANYTHING IN THIS CELL\n",
    "\"\"\"\n",
    "%matplotlib inline\n",
    "%config InlineBackend.figure_format = 'retina'\n",
    "\n",
    "import tensorflow as tf\n",
    "import pickle\n",
    "import helper\n",
    "import random\n",
    "\n",
    "# Set batch size if not already set\n",
    "try:\n",
    "    if batch_size:\n",
    "        pass\n",
    "except NameError:\n",
    "    batch_size = 64\n",
    "\n",
    "save_model_path = './image_classification'\n",
    "n_samples = 4\n",
    "top_n_predictions = 3\n",
    "\n",
    "def test_model():\n",
    "    \"\"\"\n",
    "    Test the saved model against the test dataset\n",
    "    \"\"\"\n",
    "\n",
    "    test_features, test_labels = pickle.load(open('preprocess_training.p', mode='rb'))\n",
    "    loaded_graph = tf.Graph()\n",
    "\n",
    "    with tf.Session(graph=loaded_graph) as sess:\n",
    "        # Load model\n",
    "        loader = tf.train.import_meta_graph(save_model_path + '.meta')\n",
    "        loader.restore(sess, save_model_path)\n",
    "\n",
    "        # Get Tensors from loaded model\n",
    "        loaded_x = loaded_graph.get_tensor_by_name('x:0')\n",
    "        loaded_y = loaded_graph.get_tensor_by_name('y:0')\n",
    "        loaded_keep_prob = loaded_graph.get_tensor_by_name('keep_prob:0')\n",
    "        loaded_logits = loaded_graph.get_tensor_by_name('logits:0')\n",
    "        loaded_acc = loaded_graph.get_tensor_by_name('accuracy:0')\n",
    "        \n",
    "        # Get accuracy in batches for memory limitations\n",
    "        test_batch_acc_total = 0\n",
    "        test_batch_count = 0\n",
    "        \n",
    "        for train_feature_batch, train_label_batch in helper.batch_features_labels(test_features, test_labels, batch_size):\n",
    "            test_batch_acc_total += sess.run(\n",
    "                loaded_acc,\n",
    "                feed_dict={loaded_x: train_feature_batch, loaded_y: train_label_batch, loaded_keep_prob: 1.0})\n",
    "            test_batch_count += 1\n",
    "\n",
    "        print('Testing Accuracy: {}\\n'.format(test_batch_acc_total/test_batch_count))\n",
    "\n",
    "        # Print Random Samples\n",
    "        random_test_features, random_test_labels = tuple(zip(*random.sample(list(zip(test_features, test_labels)), n_samples)))\n",
    "        random_test_predictions = sess.run(\n",
    "            tf.nn.top_k(tf.nn.softmax(loaded_logits), top_n_predictions),\n",
    "            feed_dict={loaded_x: random_test_features, loaded_y: random_test_labels, loaded_keep_prob: 1.0})\n",
    "        helper.display_image_predictions(random_test_features, random_test_labels, random_test_predictions)\n",
    "\n",
    "\n",
    "test_model()"
   ]
  },
  {
   "cell_type": "markdown",
   "metadata": {
    "deletable": true,
    "editable": true
   },
   "source": [
    "## Why 50-70% Accuracy?\n",
    "You might be wondering why you can't get an accuracy any higher. First things first, 50% isn't bad for a simple CNN.  Pure guessing would get you 10% accuracy. However, you might notice people are getting scores [well above 70%](http://rodrigob.github.io/are_we_there_yet/build/classification_datasets_results.html#43494641522d3130).  That's because we haven't taught you all there is to know about neural networks. We still need to cover a few more techniques.\n",
    "## Submitting This Project\n",
    "When submitting this project, make sure to run all the cells before saving the notebook.  Save the notebook file as \"dlnd_image_classification.ipynb\" and save it as a HTML file under \"File\" -> \"Download as\".  Include the \"helper.py\" and \"problem_unittests.py\" files in your submission."
   ]
  }
 ],
 "metadata": {
  "kernelspec": {
   "display_name": "Python 3",
   "language": "python",
   "name": "python3"
  },
  "language_info": {
   "codemirror_mode": {
    "name": "ipython",
    "version": 3
   },
   "file_extension": ".py",
   "mimetype": "text/x-python",
   "name": "python",
   "nbconvert_exporter": "python",
   "pygments_lexer": "ipython3",
   "version": "3.5.2"
  },
  "widgets": {
   "state": {},
   "version": "1.1.2"
  }
 },
 "nbformat": 4,
 "nbformat_minor": 0
}
